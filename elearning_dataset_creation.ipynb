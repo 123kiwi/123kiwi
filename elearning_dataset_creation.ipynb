{
  "nbformat": 4,
  "nbformat_minor": 0,
  "metadata": {
    "colab": {
      "provenance": [],
      "authorship_tag": "ABX9TyO+sTlB5D5JpH1y4DOOqxCq",
      "include_colab_link": true
    },
    "kernelspec": {
      "name": "python3",
      "display_name": "Python 3"
    },
    "language_info": {
      "name": "python"
    }
  },
  "cells": [
    {
      "cell_type": "markdown",
      "metadata": {
        "id": "view-in-github",
        "colab_type": "text"
      },
      "source": [
        "<a href=\"https://colab.research.google.com/github/123kiwi/123kiwi/blob/main/elearning_dataset_creation.ipynb\" target=\"_parent\"><img src=\"https://colab.research.google.com/assets/colab-badge.svg\" alt=\"Open In Colab\"/></a>"
      ]
    },
    {
      "cell_type": "code",
      "metadata": {
        "id": "b1ef1fe0"
      },
      "source": [
        "import pandas as pd\n",
        "import random\n",
        "import numpy as np"
      ],
      "execution_count": 1,
      "outputs": []
    },
    {
      "cell_type": "code",
      "metadata": {
        "id": "7d13102d"
      },
      "source": [
        "# Set seed for reproducibility\n",
        "random.seed(42)\n",
        "np.random.seed(42)\n",
        "\n",
        "# Define parameters\n",
        "num_students = 200\n",
        "courses = [\"Python Basics\", \"Data Analysis\", \"Machine Learning\", \"SQL for Beginners\", \"Excel for Data\", \"Power BI Essentials\"]\n",
        "countries = [\"USA\", \"India\", \"UK\", \"Canada\", \"Germany\", \"Australia\"]\n",
        "genders = [\"Male\", \"Female\", \"Non-binary\"]\n",
        "education_levels = [\"High School\", \"Bachelor's\", \"Master's\", \"PhD\"]\n",
        "ratings = [1, 2, 3, 4, 5]"
      ],
      "execution_count": 3,
      "outputs": []
    },
    {
      "cell_type": "code",
      "metadata": {
        "id": "c20775f2"
      },
      "source": [
        "# Generate synthetic data\n",
        "data = []\n",
        "gender_distribution = [\"Male\"] * 49 + [\"Female\"] * 49 + [\"Non-binary\"] * 2\n",
        "\n",
        "for student_id in range(1, num_students + 1):\n",
        "    course = random.choice(courses)\n",
        "    enroll_date = pd.to_datetime('2024-01-01') + pd.to_timedelta(random.randint(0, 210), unit='D')\n",
        "    duration_days = random.randint(7, 90)\n",
        "    completion_date = enroll_date + pd.to_timedelta(duration_days, unit='D')\n",
        "    completion_percent = round(min(100, max(0, np.random.normal(85, 15))), 2)\n",
        "    quiz_score = round(min(100, max(0, np.random.normal(75, 10))), 2)\n",
        "    hours_spent = round(np.random.uniform(5, 50), 2)\n",
        "    rating = random.choice(ratings) if completion_percent >= 50 else None\n",
        "    gender = random.choice(gender_distribution)\n",
        "    country = random.choice(countries)\n",
        "    education = random.choice(education_levels)\n",
        "\n",
        "    data.append([\n",
        "        student_id, course, enroll_date.date(), completion_date.date(), completion_percent,\n",
        "        quiz_score, hours_spent, rating, gender, country, education\n",
        "    ])"
      ],
      "execution_count": 4,
      "outputs": []
    },
    {
      "cell_type": "code",
      "metadata": {
        "id": "fc523ec1"
      },
      "source": [
        "# Create DataFrame\n",
        "columns = [\n",
        "    \"Student ID\", \"Course Name\", \"Enroll Date\", \"Completion Date\", \"Completion %\",\n",
        "    \"Quiz Score\", \"Hours Spent\", \"Rating Given\", \"Gender\", \"Country\", \"Education Level\"\n",
        "]\n",
        "df = pd.DataFrame(data, columns=columns)"
      ],
      "execution_count": 5,
      "outputs": []
    },
    {
      "cell_type": "code",
      "metadata": {
        "id": "4c0ec38f"
      },
      "source": [
        "# Save to Excel or CSV\n",
        "df.to_csv(\"elearning_data.csv\", index=False, sep=',')"
      ],
      "execution_count": 9,
      "outputs": []
    },
    {
      "cell_type": "code",
      "source": [
        "import os\n",
        "print(os.getcwd())"
      ],
      "metadata": {
        "colab": {
          "base_uri": "https://localhost:8080/"
        },
        "id": "TZfaRjHaBpMA",
        "outputId": "475ece15-c695-404f-fed2-530a55a0e803"
      },
      "execution_count": 10,
      "outputs": [
        {
          "output_type": "stream",
          "name": "stdout",
          "text": [
            "/content\n"
          ]
        }
      ]
    },
    {
      "cell_type": "code",
      "source": [
        "from google.colab import files\n",
        "files.download(\"elearning_data.csv\")"
      ],
      "metadata": {
        "colab": {
          "base_uri": "https://localhost:8080/",
          "height": 17
        },
        "id": "wURUhgQkC2Z_",
        "outputId": "4898b26c-0a57-48e1-b485-3d62a3aef9e5"
      },
      "execution_count": 11,
      "outputs": [
        {
          "output_type": "display_data",
          "data": {
            "text/plain": [
              "<IPython.core.display.Javascript object>"
            ],
            "application/javascript": [
              "\n",
              "    async function download(id, filename, size) {\n",
              "      if (!google.colab.kernel.accessAllowed) {\n",
              "        return;\n",
              "      }\n",
              "      const div = document.createElement('div');\n",
              "      const label = document.createElement('label');\n",
              "      label.textContent = `Downloading \"${filename}\": `;\n",
              "      div.appendChild(label);\n",
              "      const progress = document.createElement('progress');\n",
              "      progress.max = size;\n",
              "      div.appendChild(progress);\n",
              "      document.body.appendChild(div);\n",
              "\n",
              "      const buffers = [];\n",
              "      let downloaded = 0;\n",
              "\n",
              "      const channel = await google.colab.kernel.comms.open(id);\n",
              "      // Send a message to notify the kernel that we're ready.\n",
              "      channel.send({})\n",
              "\n",
              "      for await (const message of channel.messages) {\n",
              "        // Send a message to notify the kernel that we're ready.\n",
              "        channel.send({})\n",
              "        if (message.buffers) {\n",
              "          for (const buffer of message.buffers) {\n",
              "            buffers.push(buffer);\n",
              "            downloaded += buffer.byteLength;\n",
              "            progress.value = downloaded;\n",
              "          }\n",
              "        }\n",
              "      }\n",
              "      const blob = new Blob(buffers, {type: 'application/binary'});\n",
              "      const a = document.createElement('a');\n",
              "      a.href = window.URL.createObjectURL(blob);\n",
              "      a.download = filename;\n",
              "      div.appendChild(a);\n",
              "      a.click();\n",
              "      div.remove();\n",
              "    }\n",
              "  "
            ]
          },
          "metadata": {}
        },
        {
          "output_type": "display_data",
          "data": {
            "text/plain": [
              "<IPython.core.display.Javascript object>"
            ],
            "application/javascript": [
              "download(\"download_4e5f774b-2c60-4c91-a159-e6700399bd2f\", \"elearning_data.csv\", 17040)"
            ]
          },
          "metadata": {}
        }
      ]
    }
  ]
}